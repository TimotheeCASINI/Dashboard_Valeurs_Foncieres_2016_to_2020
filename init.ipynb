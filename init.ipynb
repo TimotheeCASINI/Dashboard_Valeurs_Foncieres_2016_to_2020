{
 "cells": [
  {
   "cell_type": "markdown",
   "metadata": {},
   "source": [
    "# Data Visualization - Projet\n",
    "## Projet: Demandes de valeurs foncières\n",
    "\n",
    "- Timothée CASINI\n",
    "- ST2DVZ - DS6\n",
    "- 15/10/2021"
   ]
  },
  {
   "cell_type": "markdown",
   "metadata": {},
   "source": [
    "### Notebook d'initialisation\n",
    "\n",
    "Ce notebook à pour but de créer automatiquement l'environnement virtuel du projet.\n",
    "\n",
    "En lancant le code ci-dessous, nous allons activer l'environnement virtuel et installer le kernel notebook necessaire pour pouvoir executer le `Projet.ipynb` au sein de l'environnement virtuel.\n",
    "\n",
    "Cela va permettre d'installer toute les dépendances necessaire au sein d'un environnement python réservé au projet\n"
   ]
  },
  {
   "cell_type": "code",
   "execution_count": 3,
   "metadata": {},
   "outputs": [],
   "source": [
    "# Création de l'environnement virtuel:\n",
    "!python3 -m venv ./venvdtv\n",
    "\n",
    "# Activation de l'environnement virtuel:\n",
    "!source venvdtv/bin/activate"
   ]
  },
  {
   "cell_type": "markdown",
   "metadata": {},
   "source": [
    "Vous allez recevoir une notification vous indiquant que un nouvel environnement virtuel à été trouvé. Veuille cliquer sur 'oui' afin de selectionner cet environnement pour le dossier courant.\n",
    "\n",
    "Avant de lancer la commande ci-dessous, veuillez recharger la fenêtre et séléctionner le nouvel environnement virtuel créé afin d'y installer le kernel"
   ]
  },
  {
   "cell_type": "code",
   "execution_count": 4,
   "metadata": {},
   "outputs": [
    {
     "name": "stdout",
     "output_type": "stream",
     "text": [
      "Requirement already satisfied: ipykernel in ./venvdtv/lib/python3.9/site-packages (6.5.0)\n",
      "Requirement already satisfied: debugpy<2.0,>=1.0.0 in ./venvdtv/lib/python3.9/site-packages (from ipykernel) (1.5.1)\n",
      "Requirement already satisfied: traitlets<6.0,>=5.1.0 in ./venvdtv/lib/python3.9/site-packages (from ipykernel) (5.1.1)\n",
      "Requirement already satisfied: tornado<7.0,>=4.2 in ./venvdtv/lib/python3.9/site-packages (from ipykernel) (6.1)\n",
      "Requirement already satisfied: ipython<8.0,>=7.23.1 in ./venvdtv/lib/python3.9/site-packages (from ipykernel) (7.29.0)\n",
      "Requirement already satisfied: matplotlib-inline<0.2.0,>=0.1.0 in ./venvdtv/lib/python3.9/site-packages (from ipykernel) (0.1.3)\n",
      "Requirement already satisfied: jupyter-client<8.0 in ./venvdtv/lib/python3.9/site-packages (from ipykernel) (7.0.6)\n",
      "Requirement already satisfied: appnope in ./venvdtv/lib/python3.9/site-packages (from ipykernel) (0.1.2)\n",
      "Requirement already satisfied: pickleshare in ./venvdtv/lib/python3.9/site-packages (from ipython<8.0,>=7.23.1->ipykernel) (0.7.5)\n",
      "Requirement already satisfied: pexpect>4.3 in ./venvdtv/lib/python3.9/site-packages (from ipython<8.0,>=7.23.1->ipykernel) (4.8.0)\n",
      "Requirement already satisfied: setuptools>=18.5 in ./venvdtv/lib/python3.9/site-packages (from ipython<8.0,>=7.23.1->ipykernel) (58.5.2)\n",
      "Requirement already satisfied: backcall in ./venvdtv/lib/python3.9/site-packages (from ipython<8.0,>=7.23.1->ipykernel) (0.2.0)\n",
      "Requirement already satisfied: pygments in ./venvdtv/lib/python3.9/site-packages (from ipython<8.0,>=7.23.1->ipykernel) (2.10.0)\n",
      "Requirement already satisfied: decorator in ./venvdtv/lib/python3.9/site-packages (from ipython<8.0,>=7.23.1->ipykernel) (5.1.0)\n",
      "Requirement already satisfied: jedi>=0.16 in ./venvdtv/lib/python3.9/site-packages (from ipython<8.0,>=7.23.1->ipykernel) (0.18.0)\n",
      "Requirement already satisfied: prompt-toolkit!=3.0.0,!=3.0.1,<3.1.0,>=2.0.0 in ./venvdtv/lib/python3.9/site-packages (from ipython<8.0,>=7.23.1->ipykernel) (3.0.22)\n",
      "Requirement already satisfied: jupyter-core>=4.6.0 in ./venvdtv/lib/python3.9/site-packages (from jupyter-client<8.0->ipykernel) (4.9.1)\n",
      "Requirement already satisfied: entrypoints in ./venvdtv/lib/python3.9/site-packages (from jupyter-client<8.0->ipykernel) (0.3)\n",
      "Requirement already satisfied: nest-asyncio>=1.5 in ./venvdtv/lib/python3.9/site-packages (from jupyter-client<8.0->ipykernel) (1.5.1)\n",
      "Requirement already satisfied: python-dateutil>=2.1 in ./venvdtv/lib/python3.9/site-packages (from jupyter-client<8.0->ipykernel) (2.8.2)\n",
      "Requirement already satisfied: pyzmq>=13 in ./venvdtv/lib/python3.9/site-packages (from jupyter-client<8.0->ipykernel) (22.3.0)\n",
      "Requirement already satisfied: parso<0.9.0,>=0.8.0 in ./venvdtv/lib/python3.9/site-packages (from jedi>=0.16->ipython<8.0,>=7.23.1->ipykernel) (0.8.2)\n",
      "Requirement already satisfied: ptyprocess>=0.5 in ./venvdtv/lib/python3.9/site-packages (from pexpect>4.3->ipython<8.0,>=7.23.1->ipykernel) (0.7.0)\n",
      "Requirement already satisfied: wcwidth in ./venvdtv/lib/python3.9/site-packages (from prompt-toolkit!=3.0.0,!=3.0.1,<3.1.0,>=2.0.0->ipython<8.0,>=7.23.1->ipykernel) (0.2.5)\n",
      "Requirement already satisfied: six>=1.5 in ./venvdtv/lib/python3.9/site-packages (from python-dateutil>=2.1->jupyter-client<8.0->ipykernel) (1.16.0)\n"
     ]
    }
   ],
   "source": [
    "# Installation de l'ipyKernel dans l'environnement virtuel:\n",
    "!pip install -U ipykernel"
   ]
  },
  {
   "cell_type": "markdown",
   "metadata": {},
   "source": [
    "Il suffit maintenant de lancer le `Projet.ipynb` afin d'executer le code et lancer automatiquement notre application."
   ]
  }
 ],
 "metadata": {
  "interpreter": {
   "hash": "b9e7d9e18a3f8d21d003bad8284ff2d39c766bc68d152ddf3ad9811e2e957dfc"
  },
  "kernelspec": {
   "display_name": "Python 3.9.0 64-bit ('venvdtv': venv)",
   "name": "python3"
  },
  "language_info": {
   "codemirror_mode": {
    "name": "ipython",
    "version": 3
   },
   "file_extension": ".py",
   "mimetype": "text/x-python",
   "name": "python",
   "nbconvert_exporter": "python",
   "pygments_lexer": "ipython3",
   "version": "3.9.0"
  },
  "orig_nbformat": 4
 },
 "nbformat": 4,
 "nbformat_minor": 2
}
